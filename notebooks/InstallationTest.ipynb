{
 "cells": [
  {
   "cell_type": "markdown",
   "metadata": {
    "nbpresent": {
     "id": "4e0d275a-1d6f-460a-9cbe-05b9f1774527"
    },
    "slideshow": {
     "slide_type": "slide"
    }
   },
   "source": [
    "# 1-2-3 INSTALLATION TEST\n",
    "\n",
    "Questions or Comments? Find the answer on our github Issues page or Raise an New Issue: [https://github.com/EarthBigData/openSAR/issues](https://github.com/EarthBigData/openSAR/issues)\n",
    "\n",
    "### 1. Provide the path where your unzipped **data/test** folder resides\n",
    "\n",
    "    **IMPORTANT: In WINDOWS all '\\' need to be replaced with '/' in your path!!!**\n",
    "    e.g. C:/PATH/TO/MY/TESTDATA"
   ]
  },
  {
   "cell_type": "code",
   "execution_count": null,
   "metadata": {
    "ExecuteTime": {
     "end_time": "2018-01-14T20:03:19.031713Z",
     "start_time": "2018-01-14T20:03:19.027902Z"
    },
    "nbpresent": {
     "id": "e396d6da-e2b8-4b55-9022-246f476e2aae"
    }
   },
   "outputs": [],
   "source": [
    "datapath=\"/mnt/s/github/public/openSAR/data/testdata\"          "
   ]
  },
  {
   "cell_type": "markdown",
   "metadata": {
    "nbpresent": {
     "id": "985d5e8a-329d-4437-a86a-78120abd859b"
    },
    "slideshow": {
     "slide_type": "subslide"
    }
   },
   "source": [
    "### 2. Start the Jupyter Notebook server as per instructions and open this notebook\n",
    "\n",
    "### 3. Run this Notebook\n",
    "\n",
    "See if you have a correct installation by selecting\n",
    "\n",
    "    > Kernel > Change Kernel > Python[conda env:ebd]\n",
    "    (other Kernels might be ok too)\n",
    "    \n",
    "    > Cell > Run All\n",
    "    \n",
    "### If you don't see any errors and see an image at the bottom, everything is successfully installed. \n",
    "### Your result should look similar to this [output](http://nbviewer.jupyter.org/github/EarthBigData/openSAR/blob/master/notebooks/notebookviews/html/InstallationTest.html)"
   ]
  },
  {
   "cell_type": "markdown",
   "metadata": {
    "nbpresent": {
     "id": "c552aea2-b30b-4dce-9874-1c228c701933"
    },
    "slideshow": {
     "slide_type": "slide"
    }
   },
   "source": [
    "\n",
    "# TEST SECTION\n",
    "\n",
    "## Python package import"
   ]
  },
  {
   "cell_type": "code",
   "execution_count": null,
   "metadata": {
    "ExecuteTime": {
     "end_time": "2018-01-14T20:03:19.102649Z",
     "start_time": "2018-01-14T20:03:19.039853Z"
    },
    "nbpresent": {
     "id": "da83129b-5722-404f-b67b-010fdbdd6b5a"
    },
    "slideshow": {
     "slide_type": "subslide"
    }
   },
   "outputs": [],
   "source": [
    "# Generic\n",
    "import os\n",
    "\n",
    "# Data Analysis packages\n",
    "import pandas as pd\n",
    "from osgeo import gdal\n",
    "import numpy as np\n",
    "import skimage\n",
    "\n",
    "# Plotting packages\n",
    "# MATPLOTLIB\n",
    "%matplotlib inline\n",
    "import matplotlib.pylab as plt\n",
    "\n",
    "# BOKEH\n",
    "import bokeh.plotting as bplt\n",
    "import bokeh.resources\n",
    "bplt.output_notebook(resources=bokeh.resources.INLINE)"
   ]
  },
  {
   "cell_type": "markdown",
   "metadata": {
    "nbpresent": {
     "id": "74622554-2072-4ced-9d44-73974f002aad"
    }
   },
   "source": [
    "## Test Data Import"
   ]
  },
  {
   "cell_type": "markdown",
   "metadata": {
    "nbpresent": {
     "id": "b45d0ffb-a002-4a6a-8865-879f683859b6"
    }
   },
   "source": [
    "**Set the data path and filename**"
   ]
  },
  {
   "cell_type": "code",
   "execution_count": null,
   "metadata": {
    "ExecuteTime": {
     "end_time": "2018-01-14T20:03:19.109940Z",
     "start_time": "2018-01-14T20:03:19.105235Z"
    },
    "nbpresent": {
     "id": "4d1bc74d-1fdc-4fa0-9fa5-17e1cd3ce6d7"
    }
   },
   "outputs": [],
   "source": [
    "datefile ='S32631X402380Y1491460sS1_A_vh_mtfil.dates'\n",
    "imagefile='S32631X402380Y1491460sS1_A_vh_mtfil.vrt'\n",
    "os.chdir(datapath)"
   ]
  },
  {
   "cell_type": "markdown",
   "metadata": {
    "nbpresent": {
     "id": "758d5b87-dcec-48b3-9f0f-21e55cad23b8"
    }
   },
   "source": [
    "### Time series indices"
   ]
  },
  {
   "cell_type": "code",
   "execution_count": null,
   "metadata": {
    "ExecuteTime": {
     "end_time": "2018-01-14T20:03:19.134391Z",
     "start_time": "2018-01-14T20:03:19.114643Z"
    },
    "nbpresent": {
     "id": "1c92a6e2-a053-4c26-a43d-7a6ef8deb8a5"
    },
    "scrolled": true
   },
   "outputs": [],
   "source": [
    "# Get the date indices via pandas\n",
    "dates=open(datefile,\"r\").readlines()\n",
    "tindex=pd.DatetimeIndex(dates)\n",
    "tindex"
   ]
  },
  {
   "cell_type": "markdown",
   "metadata": {
    "nbpresent": {
     "id": "6077e14b-8298-4867-adff-8af3bf9a98a2"
    }
   },
   "source": [
    "### Image data"
   ]
  },
  {
   "cell_type": "code",
   "execution_count": null,
   "metadata": {
    "ExecuteTime": {
     "end_time": "2018-01-14T20:03:19.153301Z",
     "start_time": "2018-01-14T20:03:19.137931Z"
    },
    "nbpresent": {
     "id": "f32039c3-4784-4d16-b099-1bd0ff9591e2"
    }
   },
   "outputs": [],
   "source": [
    "img=gdal.Open(imagefile)\n",
    "rasterDN=img.ReadAsArray()\n",
    "rasterdB=20.*np.log10(rasterDN)-83\n",
    "ts=pd.Series(rasterdB[:,20,5],index=tindex)\n",
    "ts.index.name='Date'"
   ]
  },
  {
   "cell_type": "markdown",
   "metadata": {
    "nbpresent": {
     "id": "20b1da68-dba2-4c23-bab9-028fac2cdead"
    },
    "slideshow": {
     "slide_type": "slide"
    }
   },
   "source": [
    "## Matplotlib Time Series Plot"
   ]
  },
  {
   "cell_type": "code",
   "execution_count": null,
   "metadata": {
    "ExecuteTime": {
     "end_time": "2018-01-14T20:03:19.411367Z",
     "start_time": "2018-01-14T20:03:19.155624Z"
    },
    "nbpresent": {
     "id": "2fe9cd48-7560-47a6-b17a-97435133d4d8"
    },
    "slideshow": {
     "slide_type": "subslide"
    }
   },
   "outputs": [],
   "source": [
    "ax=ts.plot(figsize=(16,4))\n",
    "ax.set_title('Time Series Sentinel-1 C-VH backscatter, Niamay Example')\n",
    "_=ax.set_ylabel('$\\gamma^o$ [dB]')   # Matplotlib accepts Latex Style typesetting\n"
   ]
  },
  {
   "cell_type": "markdown",
   "metadata": {
    "nbpresent": {
     "id": "b5d04807-ca7e-45d3-bbbe-60585ecf6d1e"
    },
    "slideshow": {
     "slide_type": "slide"
    }
   },
   "source": [
    "## Bokeh Time Series Plot - Interactive"
   ]
  },
  {
   "cell_type": "code",
   "execution_count": null,
   "metadata": {
    "ExecuteTime": {
     "end_time": "2018-01-14T20:03:19.509474Z",
     "start_time": "2018-01-14T20:03:19.414550Z"
    },
    "nbpresent": {
     "id": "e4c9234b-0e15-4618-b6b5-7b737e81a16f"
    },
    "slideshow": {
     "slide_type": "subslide"
    }
   },
   "outputs": [],
   "source": [
    "source=pd.DataFrame(ts)\n",
    "source.columns=['gamma0']\n",
    "p = bplt.figure(x_axis_type=\"datetime\", plot_width=800, plot_height=350,title='Time Series Sentinel-1 C-VH backscatter, Niamay Example')\n",
    "p.line('Date','gamma0',source=source)\n",
    "p.xaxis.axis_label='Date'\n",
    "p.yaxis.axis_label='γᵒ [dB]'   # To get the symbols in text for bokeh use Unicode directly with \\gamma<TAB>\\^o<TAB> (python3)\n",
    "\n",
    "bplt.show(p)"
   ]
  },
  {
   "cell_type": "markdown",
   "metadata": {
    "nbpresent": {
     "id": "db3a3d41-b155-44b2-b8f7-751fe50be515"
    },
    "slideshow": {
     "slide_type": "slide"
    }
   },
   "source": [
    "## Matplotlib Image Plot"
   ]
  },
  {
   "cell_type": "code",
   "execution_count": null,
   "metadata": {
    "ExecuteTime": {
     "end_time": "2018-01-14T20:03:19.689571Z",
     "start_time": "2018-01-14T20:03:19.514666Z"
    },
    "nbpresent": {
     "id": "106511a6-85e2-4939-ab70-6d0219f77e8b"
    },
    "slideshow": {
     "slide_type": "subslide"
    }
   },
   "outputs": [],
   "source": [
    "fig,ax = plt.subplots(figsize=(8,8))\n",
    "ax.axis('off')\n",
    "ax.imshow(rasterdB[0],cmap='gray')\n",
    "_=ax.set_title('Niamey Example, Sentinel-1 C-vh '+ str(tindex[0].date()))"
   ]
  }
 ],
 "metadata": {
  "_draft": {
   "nbviewer_url": "https://gist.github.com/f7448841cc2a12c73dcbeb1eff510c84"
  },
  "gist": {
   "data": {
    "description": "github/public/openSAR/training/notebooks/InstallationTest2.ipynb",
    "public": false
   },
   "id": "f7448841cc2a12c73dcbeb1eff510c84"
  },
  "kernelspec": {
   "display_name": "Python [conda env:ebd]",
   "language": "python",
   "name": "conda-env-ebd-py"
  },
  "language_info": {
   "codemirror_mode": {
    "name": "ipython",
    "version": 3
   },
   "file_extension": ".py",
   "mimetype": "text/x-python",
   "name": "python",
   "nbconvert_exporter": "python",
   "pygments_lexer": "ipython3",
   "version": "3.6.4"
  }
 },
 "nbformat": 4,
 "nbformat_minor": 2
}
