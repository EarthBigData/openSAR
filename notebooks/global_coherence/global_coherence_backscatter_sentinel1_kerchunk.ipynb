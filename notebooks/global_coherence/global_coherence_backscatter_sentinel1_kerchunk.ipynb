{
 "cells": [
  {
   "cell_type": "markdown",
   "id": "6fa35905",
   "metadata": {},
   "source": [
    "# GLOBAL SEASONAL SENTINEL-1 INTERFEROMETRIC COHERENCE AND BACKSCATTER DATA SET\n",
    "\n",
    "See http://sentinel-1-global-coherence-earthbigdata.s3-website-us-west-2.amazonaws.com/ for a description of the data description, format and layout. It is made of millions of geoTIFF files.\n",
    "\n",
    "This notebook uses **fsspec/kerchunk** to treat this global data set of geoTIFFs as a **zarr** store with metadata to visualize all variables dynamically as a globally cohesive data set.  \n",
    "\n",
    "Authors/Contributors: [Martin Durant](https://github.com/martindurant), [Christoph Gohlke](https://github.com/cgohlke), [Richard Signell](https://github.com/rsignell-usgs), [Josef Kellndorfer](https://github.com/jkellndorfer)\n",
    "\n",
    "Original source code in examples at fsspec/kerchunk: [https://github.com/fsspec/kerchunk](https://github.com/fsspec/kerchunk)\n",
    "\n",
    "## Load required modules"
   ]
  },
  {
   "cell_type": "code",
   "execution_count": null,
   "id": "348e4b7e-21fa-46cd-93cd-e8db56d8a0f3",
   "metadata": {},
   "outputs": [],
   "source": [
    "import os,sys\n",
    "import fsspec\n",
    "import geoviews as gv\n",
    "from geoviews import tile_sources as gvts\n",
    "import imagecodecs.numcodecs\n",
    "import hvplot.xarray\n",
    "import holoviews as hv\n",
    "import numpy as np\n",
    "import panel as pn\n",
    "import param\n",
    "import intake\n",
    "from tqdm import tqdm\n",
    "import xarray as xr\n",
    "\n",
    "import itertools\n",
    "import math\n",
    "\n",
    "imagecodecs.numcodecs.register_codecs()  # register the TIFF codec\n",
    "pn.extension()  # viz"
   ]
  },
  {
   "cell_type": "code",
   "execution_count": null,
   "id": "26457387-26f9-445c-b192-0cb3bc9bc110",
   "metadata": {},
   "outputs": [],
   "source": [
    "# TURN WARNINGS OFF\n",
    "import warnings\n",
    "warnings.filterwarnings(\"ignore\")"
   ]
  },
  {
   "cell_type": "markdown",
   "id": "3bd6f6c4",
   "metadata": {},
   "source": [
    "## Set Local or Server Mode\n",
    "\n",
    "Via two variables we can adjust how we want to run this notebook. In server_mode we generate a **servable** which can be accessed via a web server. Otherwise we **show** the application in our local browser. Typically we want to cache data masks."
   ]
  },
  {
   "cell_type": "code",
   "execution_count": null,
   "id": "4e0f153c-0d66-4cde-8fed-a48ba8270b45",
   "metadata": {},
   "outputs": [],
   "source": [
    "cache_s3=True # Read the cached mask data from s3 s3://sentinel-1-global-coherence-earthbigdata/data/wrappers/mask_ds.zarr\n",
    "cache_local = True # Set to false if mask data should not be cached as local zarr stores\n",
    "server_mode = True # Set to false if you want to run the notebook locally and visualize in a browser tab, True for display inside notebook or via webserver"
   ]
  },
  {
   "cell_type": "markdown",
   "id": "88f09ff2",
   "metadata": {},
   "source": [
    "## Load JSON File containing zarr store Simulation of the Global Data Set\n",
    "\n",
    "We are loading from s3 via fsspec a json file that contains the descriptions of how we tie the global geo tiffs in tiles into a single xarray compatible zarr store. That work has been performed by Christoph Gohlke and can be seen in detail [here](https://github.com/cgohlke/tifffile/blob/v2021.10.10/examples/earthbigdata.py).\n",
    "\n",
    "The entire power of this global visualization starts with two simple steps:\n",
    "\n",
    "- generate a mapper to the jsom file\n",
    "- open a xarray dataset based on this mapper with the zarr engine"
   ]
  },
  {
   "cell_type": "code",
   "execution_count": null,
   "id": "550267bf-544a-4dfc-825a-e5df4832087d",
   "metadata": {},
   "outputs": [],
   "source": [
    "zarr_all_url='https://sentinel-1-global-coherence-earthbigdata.s3.us-west-2.amazonaws.com/data/wrappers/zarr-all.json'\n",
    "\n",
    "mapper = fsspec.get_mapper(\n",
    "    'reference://',\n",
    "    fo=zarr_all_url,\n",
    "    target_protocol='http',\n",
    ")\n",
    "dataset = xr.open_dataset(\n",
    "    mapper, engine='zarr', backend_kwargs={'consolidated': False}\n",
    ")"
   ]
  },
  {
   "cell_type": "code",
   "execution_count": null,
   "id": "e0b00e1a-48b1-4456-ad77-24738e04412f",
   "metadata": {},
   "outputs": [],
   "source": [
    "if not server_mode:\n",
    "    print(dataset)"
   ]
  },
  {
   "cell_type": "code",
   "execution_count": null,
   "id": "fecc53fd",
   "metadata": {},
   "outputs": [],
   "source": [
    "print('unmasked effective in-memory size of data set (TBytes):',dataset.nbytes / 2**40) "
   ]
  },
  {
   "cell_type": "code",
   "execution_count": null,
   "id": "5b06835e-6249-4b7a-bf5a-368ffbc8625e",
   "metadata": {},
   "outputs": [],
   "source": [
    "dataset"
   ]
  },
  {
   "cell_type": "markdown",
   "id": "50e62f71",
   "metadata": {},
   "source": [
    "## Prepare a Data Set Browser masking No Data regions\n",
    "\n",
    "As much of the dimension space is empty, and contains no data, these areas would return a bunch of NaNs if we tried to extract the data. To be able to explore more efficiently, we create a view of the whole dataset, showing areas where data files do exist and thus can focus on exploring only these regions.\n",
    "We do this very much downsampled, because the process is quite slow."
   ]
  },
  {
   "cell_type": "code",
   "execution_count": null,
   "id": "258dabb1-06a9-4475-a1fa-07ecb1612e67",
   "metadata": {},
   "outputs": [],
   "source": [
    "STEP = 5"
   ]
  },
  {
   "cell_type": "code",
   "execution_count": null,
   "id": "83cb4665-3c60-4089-87ce-31b21d9fbdb7",
   "metadata": {},
   "outputs": [],
   "source": [
    "das = {}\n",
    "new_coords = {}\n",
    "for var in dataset.data_vars:\n",
    "    newc = {k:v.values for k,v in dataset[var].coords.items()}\n",
    "    newc['latitude'] = np.arange(89.5, -90.5, -STEP)\n",
    "    newc['longitude'] = np.arange(-179.5, 180.5, STEP)\n",
    "    empty_da = xr.DataArray(data=np.nan, dims=list(newc), coords=newc)\n",
    "    das[var] = empty_da\n",
    "    new_coords[var] = newc"
   ]
  },
  {
   "cell_type": "code",
   "execution_count": null,
   "id": "aeba5054-326c-4302-89cd-ce0b8b17b64e",
   "metadata": {},
   "outputs": [],
   "source": [
    "mask_ds = xr.Dataset(das)"
   ]
  },
  {
   "cell_type": "code",
   "execution_count": null,
   "id": "137c6622-aad9-4b2f-ba87-67fadf5d2f76",
   "metadata": {},
   "outputs": [],
   "source": [
    "zkeys = set(mapper)"
   ]
  },
  {
   "cell_type": "code",
   "execution_count": null,
   "id": "0d804432-f57a-4008-a2ae-6bdd619f9f56",
   "metadata": {},
   "outputs": [],
   "source": [
    "def find_nearest_idx(array, value):\n",
    "    if array[1] > array[0]:\n",
    "        idx = np.searchsorted(array, value, side=\"left\")\n",
    "        if idx > 0 and (idx == len(array) or math.fabs(value - array[idx-1]) < math.fabs(value - array[idx])):\n",
    "            idx = idx-1\n",
    "    else:\n",
    "        idx = array.size - np.searchsorted(array[::-1], value, side=\"right\")\n",
    "        # idx = np.searchsorted(array, value, side=\"left\", sorter=np.argsort(array))\n",
    "        if idx > 0 and (idx == len(array) or math.fabs(value - array[idx]) < math.fabs(value - array[idx+1])):\n",
    "            idx = idx-1\n",
    "    return idx"
   ]
  },
  {
   "cell_type": "code",
   "execution_count": null,
   "id": "d8cf0688-3e36-4dc8-84f7-1605917678cd",
   "metadata": {},
   "outputs": [],
   "source": [
    "def zarr_key(variable: xr.DataArray, coords: dict, chunks: dict, indexes: dict) -> str:\n",
    "    chunk = []\n",
    "    for i, dim in enumerate(variable.dims):\n",
    "        vals = indexes[dim]\n",
    "        if vals.dtype == \"O\":\n",
    "            chunk.append(list(vals).index(coords[dim]) // chunks[dim])\n",
    "        else:\n",
    "            chunk.append(find_nearest_idx(vals.values, coords[dim]) // chunks[dim])\n",
    "    return variable.name + \"/\" + \".\".join(str(ch) for ch in chunk)"
   ]
  },
  {
   "cell_type": "code",
   "execution_count": null,
   "id": "8b4e9e52",
   "metadata": {},
   "outputs": [],
   "source": [
    "# Generate the masks\n",
    "# After generation we are caching to disk if so desired.\n",
    "\n",
    "chunks = {\"latitude\": 1200, \"longitude\": 1200}\n",
    "\n",
    "if not cache_s3:\n",
    "    mask_path=os.path.join(os.environ['HOME'],'mask_ds')\n",
    "    mask_ds_zarr=os.path.join(mask_path,'mask_ds.zarr')\n",
    "    if not os.path.exists(mask_ds_zarr):\n",
    "        for var in mask_ds.data_vars:\n",
    "            print(f'Processing {var}...')\n",
    "            chunks = {dim: chunks.get(dim, 1) for i, dim in enumerate(dataset[var].dims)}\n",
    "            # chunks = {dim:dataset[var].chunks[i][0] for i, dim in enumerate(dataset[var].dims)}\n",
    "            indexes = {dim: dataset[var].indexes[dim] for dim in dataset[var].dims}\n",
    "            total = mask_ds[var].size\n",
    "            mask = np.full(total, np.nan, dtype=np.float16)\n",
    "            for i, coords in enumerate(itertools.product(*(new_coords[var].values()))):\n",
    "                coords = dict(zip(new_coords[var].keys(), coords))\n",
    "                zkey = zarr_key(dataset[var], coords, chunks, indexes)\n",
    "                mask[i] = zkey in zkeys\n",
    "            mask = mask.reshape(mask_ds[var].shape)\n",
    "            mask = np.where(mask == 0, np.nan, 1)\n",
    "            mask_ds[var].values = mask\n",
    "        print(\"done\")\n",
    "        if cache_local:\n",
    "            # Now cache to disk\n",
    "            print('Caching mask_ds to local',mask_ds_zarr)\n",
    "            os.makedirs(mask_path,exist_ok=True)\n",
    "            mask_ds.to_zarr(store=mask_ds_zarr,mode='w',consolidated=True,compute=True)\n",
    "    else:\n",
    "        # Load the cached data set\n",
    "        print('Loading mask_ds from local cache', mask_ds_zarr)\n",
    "        mask_ds=xr.open_zarr(mask_ds_zarr,consolidated=True)\n",
    "        mask_ds = mask_ds.load()\n",
    "else:\n",
    "    mask_ds_s3='s3://sentinel-1-global-coherence-earthbigdata/data/wrappers/mask_ds.zarr'\n",
    "    print('Loading mask_ds from s3 cache', mask_ds_s3)\n",
    "    # Get a mapper for the mask data cached on s3 and open the data set\n",
    "    fsz=fsspec.get_mapper(mask_ds_s3)\n",
    "    mask_ds=xr.open_zarr(fsz,consolidated=True)\n",
    "    mask_ds.load()"
   ]
  },
  {
   "cell_type": "code",
   "execution_count": null,
   "id": "dcdd0f0a-9afd-4d99-a5b0-dc024f68efc3",
   "metadata": {},
   "outputs": [],
   "source": [
    "mask_ds"
   ]
  },
  {
   "cell_type": "markdown",
   "id": "ce996c62",
   "metadata": {},
   "source": [
    "## Setup and Deploy the Visualization Tool \n",
    "\n",
    "We use a custom viz tool to be able to navigate the data space. As coded here, this will open in a separate browser tab (server_mode=False) or generate a servable (server_mode=True) that can be deployed with a call to `panel serve` via commandline on a webserver.\n",
    "\n",
    "We are selecting Open Street Map as base map tiles for the region select portion of the tool."
   ]
  },
  {
   "cell_type": "code",
   "execution_count": null,
   "id": "cdf7a7aa-c8d3-422c-a0f4-f4ff85d43f6a",
   "metadata": {},
   "outputs": [],
   "source": [
    "hv.config.image_rtol = 0.01\n",
    "\n",
    "class ZarrExplorer(param.Parameterized):\n",
    "    base_map_select = param.Selector(doc='Basemap:', default=gvts.OSM,objects=gvts.tile_sources)\n",
    "    local_map_extent = param.Number(default=1.5)\n",
    "    variable = param.Selector(doc='Dataset Variable', default='COH', objects=list(mask_ds.data_vars))\n",
    "    stream_tap_global = param.ClassSelector(hv.streams.SingleTap, hv.streams.SingleTap(x=-70.6, y=41.9), precedence=-1)\n",
    "    update_localmap = param.Action(lambda x: x.param.trigger('update_localmap'), label='Click to load data after panning / zooming / parameter change')\n",
    "\n",
    "    def __init__(self, **params):\n",
    "        super().__init__(**params)\n",
    "        self.global_map()\n",
    "        self.lm = pn.pane.HoloViews(None, linked_axes=False)\n",
    "        self.stream_rng = hv.streams.RangeXY()\n",
    "        self.x_range, self.y_range = None, None\n",
    "        self.update_local_map_after_map_click()\n",
    "\n",
    "    @param.depends('variable','base_map_select')\n",
    "    def global_map(self):\n",
    "        base_map=self.base_map_select\n",
    "        ds = hv.Dataset(mask_ds[self.variable])\n",
    "        self.img_dm = ds.to(gv.QuadMesh, kdims=['longitude', 'latitude'], dynamic=True).opts(alpha=0.3)\n",
    "        self.img_dm.cache_size = 1  # No cache so that last_key returns the current widgets state\n",
    "        #overlay = base_map * self.img_dm * gv.feature.coastline.opts(scale='50m')\n",
    "        overlay = base_map * self.img_dm \n",
    "        self.stream_tap_global.source = self.img_dm  # Attache the tap stream to this map\n",
    "        overlay = overlay * self.withregion()\n",
    "        pn_out = pn.panel(overlay.opts(width=600, height=500), widget_location='left')\n",
    "        if self.variable=='COH':\n",
    "            pn_out[0][1][0].value=12.0\n",
    "            pn_out[0][1][1].value='vv'\n",
    "            pn_out[0][1][2].value='winter'  \n",
    "        elif self.variable in ('AMP','rho','tau','rmse'):\n",
    "            pn_out[0][1][0].value='vv'\n",
    "            pn_out[0][1][1].value='winter'\n",
    "        else:\n",
    "            pass\n",
    "        return pn_out\n",
    "\n",
    "    def withregion(self):\n",
    "        def make_point(x, y):\n",
    "            return gv.Points([(x, y)]).opts(color='red', marker='+', size=20)\n",
    "        return hv.DynamicMap(make_point, streams=dict(x=self.stream_tap_global.param.x, y=self.stream_tap_global.param.y))\n",
    "\n",
    "    @param.depends('stream_tap_global.x', 'stream_tap_global.y', watch=True)\n",
    "    def update_local_map_after_map_click(self):\n",
    "        x, y = self.stream_tap_global.x, self.stream_tap_global.y\n",
    "        half_lme = self.local_map_extent / 2\n",
    "        self.x_range = (x-half_lme, x+half_lme)\n",
    "        self.y_range = (y+half_lme, y-half_lme)  # The dataset has reversed longitude\n",
    "\n",
    "    @param.depends('update_localmap', watch=True)\n",
    "    def update_local_map_after_refresh(self):\n",
    "        y0, y1 = self.stream_rng.y_range\n",
    "        self.x_range = self.stream_rng.x_range\n",
    "        self.y_range = (y1, y0)  # The dataset has reversed longitude\n",
    "    \n",
    "    @param.depends('update_local_map_after_map_click', 'update_local_map_after_refresh')\n",
    "    def local_map(self):\n",
    "        if self.img_dm.last_key:\n",
    "            state = {kdim.name: val for kdim, val in zip(self.img_dm.kdims, self.img_dm.last_key)}\n",
    "        else:\n",
    "            if self.variable=='COH':\n",
    "                state = {'season': 'winter','polarization':'vv','coherence':12.0}\n",
    "            elif self.variable in ('AMP','rho','tau','rmse'):\n",
    "                state = {'season': 'winter','polarization':'vv'}\n",
    "            else:\n",
    "                state = {kdim.name: kdim.values[0] for kdim in self.img_dm.kdims}\n",
    "\n",
    "        dssub = dataset[self.variable].sel(latitude=slice(*self.y_range), longitude=slice(*self.x_range), **state)\n",
    "        title = f'{self.variable} @' + ', '.join(f'{dim}: {val}' for dim, val in state.items())\n",
    "        img = dssub.hvplot.image(\n",
    "            x=\"longitude\", y=\"latitude\",\n",
    "            cmap='spectral_r', frame_width=400, geo=True, \n",
    "            rasterize=True,\n",
    "            title=title,\n",
    "            shared_axes=False,\n",
    "        )\n",
    "        self.stream_rng.source = img\n",
    "        return img"
   ]
  },
  {
   "cell_type": "code",
   "execution_count": null,
   "id": "e3399751-711b-4f85-b544-17376f614f4e",
   "metadata": {},
   "outputs": [],
   "source": [
    "ze = ZarrExplorer()"
   ]
  },
  {
   "cell_type": "code",
   "execution_count": null,
   "id": "6d022b8e",
   "metadata": {},
   "outputs": [],
   "source": [
    "html_header='''\n",
    "<a href=\"http://earthbigdata.com\" target=\"_blank\" rel=\"noopener noreferrer\">\n",
    "<img src=\"http://earthbigdata.com/wp-content/uploads/2017/06/logo-with-name-v3.png\" width=200>\n",
    "</a><a href=\"https://www.gamma-rs.ch\" target=\"_blank\" rel=\"noopener noreferrer\">\n",
    "<img src=\"https://www.gamma-rs.ch/images/gamma-img/gamma_logo.jpg\" width=200>\n",
    "</a><a href=\"https://jpl.nasa.gov\" target=\"_blank\" rel=\"noopener noreferrer\">\n",
    "<img src=\"https://upload.wikimedia.org/wikipedia/commons/c/c6/Jet_Propulsion_Laboratory_logo.svg\" width=75>\n",
    "</a>\n",
    "<br><font size=\"+3\">Global Sentinel-1 Coherence and Backscatter Data Set</font_size>\n",
    "<font size=\"+0\"><br>Contains modified Copernicus Sentinel-1 Data acquired from 1.Dec.2019 to 30.Nov.2020\n",
    "<p><font size=\"+0\">Choose from variables, polarizations, and time steps to see global coverage and select regions to visualize the data.\n",
    "<br>Scaling for coherence such that  coherence   = COH / 100.\n",
    "<br>Scaling for amplitudes such that backscatter [dB] = 20  * log10(AMP) -83.</font size>\n",
    "<br>For a detailed data set descriction <a href=\"http://sentinel-1-global-coherence-earthbigdata.s3-website-us-west-2.amazonaws.com/\" target=\"_blank\" rel=\"noopener noreferrer\">click here</a>.\n",
    "</p>\n",
    "'''"
   ]
  },
  {
   "cell_type": "code",
   "execution_count": null,
   "id": "e0134498",
   "metadata": {},
   "outputs": [],
   "source": [
    "html_footer='''\n",
    "<br><font size=\"+0\">Dataset Repository</font_size></br>\n",
    "<a href=\"https://registry.opendata.aws/ebd-sentinel-1-global-coherence-backscatter/\" target=\"_blank\" rel=\"noopener noreferrer\">AWS Registry of Open Data Global Sentinel-1 Coherence and Backscatter Dataset</a>\n",
    "<br><font size=\"+0\">Visualization Credits</font_size></br>\n",
    "<a href=\"https://github.com/fsspec/kerchunk\" target=\"_blank\" rel=\"noopener noreferrer\">Martin Durant's fsspec/kerchunk</a>\n",
    "<br><a href=\"https://github.com/cgohlke/tifffile\" target=\"_blank\" rel=\"noopener noreferrer\">Christoph Gohlke's tifffile and json implementation of the zarr meta structure</a>\n",
    "<br><a href=\"https://github.com/fsspec/kerchunk/issues/78\" target=\"_blank\" rel=\"noopener noreferrer\">Richard Signell for kicking us off on the implementation and finetuning the notebook</a>\n",
    "'''"
   ]
  },
  {
   "cell_type": "code",
   "execution_count": null,
   "id": "e39fa960-c080-4459-b9cf-0326ff1a7ca9",
   "metadata": {},
   "outputs": [],
   "source": [
    "app = pn.Column(\n",
    "    html_header,\n",
    "    pn.Param(ze.param.variable, width=150),\n",
    "    pn.Row(\n",
    "        ze.global_map,\n",
    "        pn.Column(\n",
    "            pn.panel(ze.local_map, loading_indicator=True),\n",
    "            ze.param.update_localmap\n",
    "        ),\n",
    "    ),\n",
    "    html_footer\n",
    ")"
   ]
  },
  {
   "cell_type": "code",
   "execution_count": null,
   "id": "618f6d2c-cea7-4230-b6fa-47fdc1e92fcd",
   "metadata": {},
   "outputs": [],
   "source": [
    "if not server_mode:\n",
    "    app.show(title='Global Interferometric Coherence and Backscatter from Sentinel-1',open=True)\n",
    "else:\n",
    "    app.servable(title='Global Interferometric Coherence and Backscatter from Sentinel-1')"
   ]
  },
  {
   "cell_type": "code",
   "execution_count": null,
   "id": "b122041b-f539-4a51-a882-ad800cf48db9",
   "metadata": {},
   "outputs": [],
   "source": [
    "app.servable(title='Global Interferometric Coherence and Backscatter from Sentinel-1')"
   ]
  }
 ],
 "metadata": {
  "kernelspec": {
   "display_name": "Python [conda env:pangeo]",
   "language": "python",
   "name": "conda-env-pangeo-py"
  },
  "language_info": {
   "codemirror_mode": {
    "name": "ipython",
    "version": 3
   },
   "file_extension": ".py",
   "mimetype": "text/x-python",
   "name": "python",
   "nbconvert_exporter": "python",
   "pygments_lexer": "ipython3",
   "version": "3.9.7"
  }
 },
 "nbformat": 4,
 "nbformat_minor": 5
}
